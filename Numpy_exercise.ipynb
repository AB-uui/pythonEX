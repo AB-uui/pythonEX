{
  "cells": [
    {
      "cell_type": "markdown",
      "metadata": {
        "id": "view-in-github",
        "colab_type": "text"
      },
      "source": [
        "<a href=\"https://colab.research.google.com/github/AB-uui/pythonEX/blob/main/Numpy_exercise.ipynb\" target=\"_parent\"><img src=\"https://colab.research.google.com/assets/colab-badge.svg\" alt=\"Open In Colab\"/></a>"
      ]
    },
    {
      "cell_type": "markdown",
      "id": "d611bace",
      "metadata": {
        "id": "d611bace"
      },
      "source": [
        "# Numpy - Exercise"
      ]
    },
    {
      "cell_type": "code",
      "execution_count": 2,
      "id": "6fc6adb2",
      "metadata": {
        "id": "6fc6adb2"
      },
      "outputs": [],
      "source": [
        "import numpy as np"
      ]
    },
    {
      "cell_type": "markdown",
      "id": "f4240f07",
      "metadata": {
        "id": "f4240f07"
      },
      "source": [
        "### Ex 1:  \n",
        "Import data from file located at  \"./data/inflammation-01.csv\""
      ]
    },
    {
      "cell_type": "code",
      "execution_count": 5,
      "id": "8b71332c",
      "metadata": {
        "colab": {
          "base_uri": "https://localhost:8080/"
        },
        "id": "8b71332c",
        "outputId": "15c7b928-9945-40e2-f5dd-15ac17dd1b5c"
      },
      "outputs": [
        {
          "output_type": "stream",
          "name": "stdout",
          "text": [
            "File downloaded successfully as inflammation-01.csv\n",
            "Data loaded successfully!\n",
            "[[0. 0. 1. ... 3. 0. 0.]\n",
            " [0. 1. 2. ... 1. 0. 1.]\n",
            " [0. 1. 1. ... 2. 1. 1.]\n",
            " ...\n",
            " [0. 1. 1. ... 1. 1. 1.]\n",
            " [0. 0. 0. ... 0. 2. 0.]\n",
            " [0. 0. 1. ... 1. 1. 0.]]\n"
          ]
        }
      ],
      "source": [
        "# fname = \"./data/inflammation-01.csv\"\n",
        "#your code here\n",
        "\n",
        "import requests\n",
        "\n",
        "# URL of the CSV file\n",
        "url = \"https://swcarpentry.github.io/python-novice-inflammation/data/inflammation-01.csv\"\n",
        "file_name = \"inflammation-01.csv\"\n",
        "\n",
        "# Download the file\n",
        "try:\n",
        "    response = requests.get(url)\n",
        "    response.raise_for_status()  # Raise an error for bad status codes\n",
        "    with open(file_name, \"wb\") as file:\n",
        "        file.write(response.content)\n",
        "    print(f\"File downloaded successfully as {file_name}\")\n",
        "except requests.exceptions.RequestException as e:\n",
        "    print(f\"Error downloading the file: {e}\")\n",
        "    exit()\n",
        "\n",
        "# Load the file with numpy\n",
        "try:\n",
        "    data = np.loadtxt(fname=file_name, delimiter=\",\")\n",
        "    print(\"Data loaded successfully!\")\n",
        "    print(data)\n",
        "except Exception as e:\n",
        "    print(f\"Error reading the file with numpy: {e}\")\n"
      ]
    },
    {
      "cell_type": "markdown",
      "id": "c85b0cb6",
      "metadata": {
        "id": "c85b0cb6"
      },
      "source": [
        "### Ex 2:\n",
        "1. Print the last value of the array, that is, the value at the last row and last column.\n",
        "1. Print the entire last row.\n",
        "1. Print the entire last column."
      ]
    },
    {
      "cell_type": "code",
      "execution_count": 6,
      "id": "639068e7",
      "metadata": {
        "colab": {
          "base_uri": "https://localhost:8080/"
        },
        "id": "639068e7",
        "outputId": "f7a4ff01-0af8-4ef6-b472-7bbf2688ac4a"
      },
      "outputs": [
        {
          "output_type": "stream",
          "name": "stdout",
          "text": [
            "0.0\n",
            "[ 0.  0.  1.  0.  3.  2.  5.  4.  8.  2.  9.  3.  3. 10. 12.  9. 14. 11.\n",
            " 13.  8.  6. 18. 11.  9. 13. 11.  8.  5.  5.  2.  8.  5.  3.  5.  4.  1.\n",
            "  3.  1.  1.  0.]\n",
            "[0. 1. 1. 1. 1. 1. 1. 1. 0. 0. 1. 1. 1. 0. 0. 0. 1. 0. 0. 1. 0. 0. 0. 0.\n",
            " 1. 0. 1. 1. 0. 1. 1. 0. 1. 1. 1. 0. 1. 0. 1. 1. 1. 0. 0. 1. 1. 0. 0. 1.\n",
            " 0. 1. 0. 0. 1. 1. 1. 1. 1. 1. 0. 0.]\n"
          ]
        }
      ],
      "source": [
        "#your code here\n",
        "print(data[-1,-1])\n",
        "print(data[-1])\n",
        "print(data[:,-1])"
      ]
    },
    {
      "cell_type": "markdown",
      "id": "49e72c2c",
      "metadata": {
        "id": "49e72c2c"
      },
      "source": [
        "### Ex 3:\n",
        "Calculate the square root of the data using numpy. Print the result for the first 5 columns of the first 3 rows."
      ]
    },
    {
      "cell_type": "code",
      "execution_count": 8,
      "id": "e348f66a",
      "metadata": {
        "colab": {
          "base_uri": "https://localhost:8080/"
        },
        "id": "e348f66a",
        "outputId": "0c1a044d-1197-4ee0-a0de-13ddc5e58209"
      },
      "outputs": [
        {
          "output_type": "stream",
          "name": "stdout",
          "text": [
            "[[0.         0.         1.         1.73205081 1.        ]\n",
            " [0.         1.         1.41421356 1.         1.41421356]\n",
            " [0.         1.         1.         1.73205081 1.73205081]]\n"
          ]
        }
      ],
      "source": [
        "#your code here\n",
        "data_sqrt = np.sqrt(data)\n",
        "print(data_sqrt[:3,:5])"
      ]
    },
    {
      "cell_type": "markdown",
      "id": "92718971",
      "metadata": {
        "id": "92718971"
      },
      "source": [
        "### Ex 4:\n",
        "On which day did each patient had the most inflammation?"
      ]
    },
    {
      "cell_type": "code",
      "execution_count": 16,
      "id": "2ed9935c",
      "metadata": {
        "colab": {
          "base_uri": "https://localhost:8080/"
        },
        "id": "2ed9935c",
        "outputId": "cbc8789c-e6d1-4549-ef10-cfb0a16c2a3d"
      },
      "outputs": [
        {
          "output_type": "stream",
          "name": "stdout",
          "text": [
            "[19 20 20 20 19 18 21 20 18 20 19 22 17 19 17 18 21 21 17 21 21 22 18 19\n",
            " 20 19 22 23 20 18 19 20 15 25 19 23 18 18 20 18 20 20 21 19 21 18 20 15\n",
            " 24 18 19 20 21 19 18 17 23 19 22 21]\n"
          ]
        }
      ],
      "source": [
        "#your code here\n",
        "\n",
        "data_argmax = data.argmax(axis=1)\n",
        "print(data_argmax)"
      ]
    },
    {
      "cell_type": "markdown",
      "id": "b3a27b0b",
      "metadata": {
        "id": "b3a27b0b"
      },
      "source": [
        "### Ex 5:\n",
        "Create an array with the inverse ($1/x$) of the even numbers lower than or equal to 100."
      ]
    },
    {
      "cell_type": "code",
      "execution_count": 29,
      "id": "c792fdf7",
      "metadata": {
        "colab": {
          "base_uri": "https://localhost:8080/"
        },
        "id": "c792fdf7",
        "outputId": "307a7726-95ee-4103-ef18-6a350802817d"
      },
      "outputs": [
        {
          "output_type": "stream",
          "name": "stdout",
          "text": [
            "[0.5        0.25       0.16666667 0.125      0.1        0.08333333\n",
            " 0.07142857 0.0625     0.05555556 0.05       0.04545455 0.04166667\n",
            " 0.03846154 0.03571429 0.03333333 0.03125    0.02941176 0.02777778\n",
            " 0.02631579 0.025      0.02380952 0.02272727 0.02173913 0.02083333\n",
            " 0.02       0.01923077 0.01851852 0.01785714 0.01724138 0.01666667\n",
            " 0.01612903 0.015625   0.01515152 0.01470588 0.01428571 0.01388889\n",
            " 0.01351351 0.01315789 0.01282051 0.0125     0.01219512 0.01190476\n",
            " 0.01162791 0.01136364 0.01111111 0.01086957 0.0106383  0.01041667\n",
            " 0.01020408 0.01      ]\n"
          ]
        }
      ],
      "source": [
        "#your code here\n",
        "\n",
        "# even_numbers = np.arange(2, 101, 2)\n",
        "# %timeit np.reciprocal(even_numbers.astype(float))  #the good\n",
        "# %timeit even_numbers.astype(float)**-1\n",
        "# %timeit 1 / even_numbers\n",
        "\n",
        "inverses_even_numbers = np.reciprocal(np.arange(2, 101, 2).astype(float))\n",
        "print(inverses_even_numbers)\n"
      ]
    },
    {
      "cell_type": "markdown",
      "id": "085820ef",
      "metadata": {
        "id": "085820ef"
      },
      "source": [
        "### Ex 6:\n",
        "Skim through the documentation for `np.ravel`, and use this function to construct the array:\n",
        "```py\n",
        "[1 0 0 0 1 0 0 0 1]\n",
        "```"
      ]
    },
    {
      "cell_type": "code",
      "execution_count": 39,
      "id": "2b89c042",
      "metadata": {
        "id": "2b89c042"
      },
      "outputs": [],
      "source": [
        "#you can use the function help in order to see the documentation\n",
        "help(np.ravel)"
      ]
    },
    {
      "cell_type": "code",
      "execution_count": 38,
      "id": "13a0f654",
      "metadata": {
        "colab": {
          "base_uri": "https://localhost:8080/"
        },
        "id": "13a0f654",
        "outputId": "277a9f86-bf93-4911-f9e2-656485b5c4ff"
      },
      "outputs": [
        {
          "output_type": "stream",
          "name": "stdout",
          "text": [
            "[1 0 0 0 1 0 0 0 1]\n"
          ]
        }
      ],
      "source": [
        "#your code here\n",
        "\n",
        "mat_eye_flat = np.ravel(np.eye(3).astype(int))\n",
        "print(mat_eye_flat)"
      ]
    },
    {
      "cell_type": "markdown",
      "id": "8218c156",
      "metadata": {
        "id": "8218c156"
      },
      "source": [
        "### Ex 7: Broadcasting\n",
        "Given a 1D array X, calculate the differences between each two elements of X using broadcasting and save it to array D."
      ]
    },
    {
      "cell_type": "code",
      "execution_count": 42,
      "id": "971ce63a",
      "metadata": {
        "id": "971ce63a"
      },
      "outputs": [],
      "source": [
        "X = np.linspace(0, 1, 50)"
      ]
    },
    {
      "cell_type": "code",
      "execution_count": 61,
      "id": "371ce764",
      "metadata": {
        "colab": {
          "base_uri": "https://localhost:8080/"
        },
        "id": "371ce764",
        "outputId": "acec8263-696a-405e-8a90-eefe3e5b3ec6"
      },
      "outputs": [
        {
          "output_type": "stream",
          "name": "stdout",
          "text": [
            "[[0.         0.02040816 0.04081633 ... 0.95918367 0.97959184 1.        ]\n",
            " [0.02040816 0.         0.02040816 ... 0.93877551 0.95918367 0.97959184]\n",
            " [0.04081633 0.02040816 0.         ... 0.91836735 0.93877551 0.95918367]\n",
            " ...\n",
            " [0.95918367 0.93877551 0.91836735 ... 0.         0.02040816 0.04081633]\n",
            " [0.97959184 0.95918367 0.93877551 ... 0.02040816 0.         0.02040816]\n",
            " [1.         0.97959184 0.95918367 ... 0.04081633 0.02040816 0.        ]]\n"
          ]
        }
      ],
      "source": [
        "# your code here\n",
        "\n",
        "# D = abs(X[:, None] - X)\n",
        "D = abs(X.reshape(50,1) - X)\n",
        "print(D.reshape(50,50))"
      ]
    },
    {
      "cell_type": "code",
      "execution_count": 62,
      "id": "d0a6888a",
      "metadata": {
        "id": "d0a6888a"
      },
      "outputs": [],
      "source": [
        "assert D.shape == (50, 50)\n",
        "assert (D.diagonal() == 0).all()\n",
        "assert (D[5,5] == D[-5,-5])"
      ]
    },
    {
      "cell_type": "markdown",
      "id": "89b793f5",
      "metadata": {
        "id": "89b793f5"
      },
      "source": [
        "### Ex 8:\n",
        "![image.png](attachment:image.png)\n",
        "\n",
        "Given a 1D array, negate (i.e. turn to negative) all elements which are between 3 and 8 (including both), in place (i.e. without creating a new array)."
      ]
    },
    {
      "cell_type": "code",
      "execution_count": 63,
      "id": "94a64046",
      "metadata": {
        "colab": {
          "base_uri": "https://localhost:8080/"
        },
        "id": "94a64046",
        "outputId": "3e1dfbc5-edc1-4495-a0d0-8f02b62004b0"
      },
      "outputs": [
        {
          "output_type": "stream",
          "name": "stdout",
          "text": [
            "[ 0  1  2  3  4  5  6  7  8  9 10]\n"
          ]
        }
      ],
      "source": [
        "Z = np.arange(11)\n",
        "print(Z)"
      ]
    },
    {
      "cell_type": "code",
      "execution_count": 68,
      "id": "0cf322aa",
      "metadata": {
        "colab": {
          "base_uri": "https://localhost:8080/"
        },
        "id": "0cf322aa",
        "outputId": "897a577a-563c-40a9-e88d-e6aeedf6f094"
      },
      "outputs": [
        {
          "output_type": "execute_result",
          "data": {
            "text/plain": [
              "array([ 0,  1,  2, -3, -4, -5, -6, -7, -8,  9, 10])"
            ]
          },
          "metadata": {},
          "execution_count": 68
        }
      ],
      "source": [
        "# Your code here\n",
        "# Z[(Z >= 3) & (Z <= 8)] *= -1\n",
        "# print(Z)\n",
        "Z[:] = np.where((Z >= 3) & (Z <= 8), -Z, Z)\n",
        "Z"
      ]
    }
  ],
  "metadata": {
    "kernelspec": {
      "display_name": "Python 3 (ipykernel)",
      "language": "python",
      "name": "python3"
    },
    "language_info": {
      "codemirror_mode": {
        "name": "ipython",
        "version": 3
      },
      "file_extension": ".py",
      "mimetype": "text/x-python",
      "name": "python",
      "nbconvert_exporter": "python",
      "pygments_lexer": "ipython3",
      "version": "3.11.3"
    },
    "colab": {
      "provenance": [],
      "include_colab_link": true
    }
  },
  "nbformat": 4,
  "nbformat_minor": 5
}